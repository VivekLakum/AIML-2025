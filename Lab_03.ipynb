{
  "nbformat": 4,
  "nbformat_minor": 0,
  "metadata": {
    "colab": {
      "provenance": [],
      "authorship_tag": "ABX9TyM44qJOUtiePfkmszL4PJ5n",
      "include_colab_link": true
    },
    "kernelspec": {
      "name": "python3",
      "display_name": "Python 3"
    },
    "language_info": {
      "name": "python"
    }
  },
  "cells": [
    {
      "cell_type": "markdown",
      "metadata": {
        "id": "view-in-github",
        "colab_type": "text"
      },
      "source": [
        "<a href=\"https://colab.research.google.com/github/VivekLakum/AIML-2025/blob/main/Lab_03.ipynb\" target=\"_parent\"><img src=\"https://colab.research.google.com/assets/colab-badge.svg\" alt=\"Open In Colab\"/></a>"
      ]
    },
    {
      "cell_type": "code",
      "execution_count": null,
      "metadata": {
        "id": "J1rjIGMA3hyu"
      },
      "outputs": [],
      "source": [
        "from collections import namedtuple,Counter,defaultdict\n",
        "import random\n",
        "import math\n",
        "import functools\n",
        "cache=functools.lru_cache(10**6)"
      ]
    },
    {
      "cell_type": "code",
      "source": [
        "\n",
        "class Gamee:\n",
        "  def actions(self,state):\n",
        "    raise NotImplementedError\n",
        "  def result(self,state,action):\n",
        "    raise NotImplementedError\n",
        "    def is_terminal(self,state):\n",
        "      return not self.actions(state)\n",
        "      def utility(self,state,player):\n",
        "        raise NotImplementedError\n",
        "\n",
        "\n"
      ],
      "metadata": {
        "id": "NaLQIS1W4EAA"
      },
      "execution_count": null,
      "outputs": []
    },
    {
      "cell_type": "code",
      "source": [
        "def play_game(game,strategies:dict,verbose=False):\n",
        "  state=game.initial\n",
        "  while not game.is_terminal(state):\n",
        "    player=state.to_move\n",
        "    move=strategies[player](game,state)\n",
        "    state=game.result(state,move)\n",
        "    if verbose:\n",
        "      print('Player',player,'move:',move)\n",
        "      print(state)\n",
        "  return state"
      ],
      "metadata": {
        "id": "2lQp0w7K5We7"
      },
      "execution_count": null,
      "outputs": []
    },
    {
      "cell_type": "code",
      "source": [
        "def minimax_search(game,state):\n",
        "  player=state.to_move\n",
        "  def max_value(state):\n",
        "    if game.is_terminal(state):\n",
        "      return game.utility(state,player),None\n",
        "      v,move=-infinity,None\n",
        "      for a in game.actions(state):\n",
        "        v2,_=min_value(game.result(state,a))\n",
        "        if v2>v:\n",
        "          v,move=v2,a\n",
        "      return v,move\n",
        "  def min_value(state):\n",
        "    if game.is_terminal(state):\n",
        "      return game.utility(state,player),None\n",
        "    v,move=+infinity,None\n",
        "    for a in game.actions(state):\n",
        "      v2,_=max_value(game.result(state,a))\n",
        "      if v2<v:\n",
        "        v,move=v2,a\n",
        "    return v,move\n",
        "  return max_value(state)\n",
        "infinity=math.inf"
      ],
      "metadata": {
        "id": "bEWKfHRQ7cSX"
      },
      "execution_count": null,
      "outputs": []
    },
    {
      "cell_type": "code",
      "source": [
        "def alphabeta_search(game,state):\n",
        "  player=state.to_move\n",
        "  def max_value(state,alpha,beta):\n",
        "    if game.is_terminal(state):\n",
        "      return game.utility(state,player),None\n",
        "    v,move=-infinity,None\n",
        "    for a in game.actions(state):\n",
        "      v2,_=min_value(game.result(state,a),alpha,beta)\n",
        "      if v2>v:\n",
        "        v,move=v2,a\n",
        "        alpha=max(alpha,v)\n",
        "        if v >= beta:\n",
        "          return v,move\n",
        "    return v,move\n",
        "def min_value(state,alpha,beta):\n",
        "  if game.is_terminal(state):\n",
        "    return game.utility(state,player),None\n",
        "    v,move =+infinity,None\n",
        "    for a in game.actions(state):\n",
        "      v2,_=max_value(game.result(state,a),alpha,beta)\n",
        "      if v2<v:\n",
        "        v,move=v2,a\n",
        "        beta=min(beta,v)\n",
        "        if v<=alpha:\n",
        "          return v,move\n",
        "    return v,move\n",
        "  return max_value(state,alpha,beta)\n",
        "  infinity=math.inf\n"
      ],
      "metadata": {
        "id": "IvxTfa8i9GfI"
      },
      "execution_count": null,
      "outputs": []
    },
    {
      "cell_type": "code",
      "source": [],
      "metadata": {
        "id": "QWpT46T4GG-Z"
      },
      "execution_count": null,
      "outputs": []
    }
  ]
}