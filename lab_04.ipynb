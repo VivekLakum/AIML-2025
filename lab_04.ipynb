{
  "nbformat": 4,
  "nbformat_minor": 0,
  "metadata": {
    "colab": {
      "provenance": [],
      "authorship_tag": "ABX9TyPaKQ8DzSSJbOH2HopgDX9Q",
      "include_colab_link": true
    },
    "kernelspec": {
      "name": "python3",
      "display_name": "Python 3"
    },
    "language_info": {
      "name": "python"
    }
  },
  "cells": [
    {
      "cell_type": "markdown",
      "metadata": {
        "id": "view-in-github",
        "colab_type": "text"
      },
      "source": [
        "<a href=\"https://colab.research.google.com/github/VivekLakum/AIML-2025/blob/main/lab_04.ipynb\" target=\"_parent\"><img src=\"https://colab.research.google.com/assets/colab-badge.svg\" alt=\"Open In Colab\"/></a>"
      ]
    },
    {
      "cell_type": "code",
      "source": [
        "import numpy as np\n",
        "from copy import deepcopy\n",
        "import time"
      ],
      "metadata": {
        "id": "bDwyuSVWvy9y"
      },
      "execution_count": null,
      "outputs": []
    },
    {
      "cell_type": "code",
      "source": [],
      "metadata": {
        "id": "T3VCJEMzgssr"
      },
      "execution_count": null,
      "outputs": []
    },
    {
      "cell_type": "code",
      "execution_count": null,
      "metadata": {
        "id": "4CiW5tpLuXrD"
      },
      "outputs": [],
      "source": [
        "def bestsolution(state):\n",
        "  bestsol=np.array([],int).reshape(-1,9)\n",
        "  count=len(state)-1\n",
        "  while count!=-1:\n",
        "    bestsol=np.insert(bestsol,0,state[count]['puzzle'],0)\n",
        "    count=state[count]['parent']\n",
        "\n",
        "  return bestsol.reshape(-1,3,3)\n"
      ]
    },
    {
      "cell_type": "code",
      "source": [
        "def all(checkarray):\n",
        "  set=[]\n",
        "  for it in set:\n",
        "    for checkarray in it:\n",
        "      return 1\n",
        "    else:\n",
        "      return 0\n"
      ],
      "metadata": {
        "id": "KjjdCGiJ5Ln-"
      },
      "execution_count": null,
      "outputs": []
    },
    {
      "cell_type": "code",
      "source": [
        "def misplaced_tiles(puzzle,goal):\n",
        "  mscost = np.sum(puzzle != goal) -1\n",
        "  return mscost if mscost > 0 else 0"
      ],
      "metadata": {
        "id": "HjJvrHH56CcX"
      },
      "execution_count": null,
      "outputs": []
    },
    {
      "cell_type": "code",
      "source": [
        "def cooridinate(puzzle):\n",
        "  pos = np.array(range(9))\n",
        "  for p,q in enumerate(puzzle):\n",
        "    pos[q]=p\n",
        "  return pos\n"
      ],
      "metadata": {
        "id": "KTMMlSb37OD4"
      },
      "execution_count": null,
      "outputs": []
    },
    {
      "cell_type": "code",
      "source": [
        "def evaluate_misplaced(puzzle,goal):\n",
        "  steps=np.array([\n",
        "      ('up',[0,1,2],-3),\n",
        "      ('down',[6,7,8],3),\n",
        "      ('left',[0,3,6],-1),\n",
        "      ('right',[2,5,8],1)\n",
        "  ],dtype=[('move',(str,1)),('position',(int,1)),('head',(int,1))])\n",
        "  dtstate=[('puzzle',list),('parent',int),('gn',int),('hn',int)]\n",
        "  costg=coordinates(goal)\n",
        "  parent=-1\n",
        "  gn=0\n",
        "  hn=misplaced_tiles(coordinates(puzzle),costg)\n",
        "  state=np.array([(puzzle,parent,gn,hn)],dtstate)\n",
        "  dtpriority=[('position',(int,1)),('fn',int)]\n",
        "  priority=np.array([(0,hn)],dtpriority)\n",
        "  while True:\n",
        "    priority=np.sort(priority,kind='mergesort',order=['fn','position'])\n",
        "    position,fn=priority[0]\n",
        "    priority=np.delete(priority,0,0)\n",
        "    puzzle,parent,gn,hn=state[position]\n",
        "    puzzle=np.array(puzzle)\n",
        "    blank=int(np.where(puzzle==0)[0])\n",
        "    gn=gn+1\n",
        "    c=1\n",
        "    start_time=time.time()\n",
        "    for s in steps:\n",
        "      c=c+1\n",
        "      if blank not in s['position']:\n",
        "        openstates=deepcopy(puzzle)\n",
        "        openstates[blank],openstates[blank+s['head']] = openstates[blank+s['head'],openstates[blank],openstates[b]]\n",
        "        if not(np.all(list(state['puzzle']==openstates,1).any())):\n",
        "           end_time=time.time()\n",
        "           if(end_time-start_time)>2:\n",
        "              print(\"the 8 puzzle is un solveable\\n\")\n",
        "              break\n",
        "        hn=misplaced_tiles(coordinates(openstates),costg)\n",
        "        q=np.array([(openstates,position,gn,hn)],dtstate)\n",
        "        state=np.append(state,q,0)\n",
        "        fn=gn+hn\n",
        "        q=np.array([(len(state)-1,fn)],dtpriority)\n",
        "        priority=np.append(priority,q,0)\n",
        "        if np.array_equal(openstates,goal):\n",
        "          print('the 8 puzzle is solveable\\n')\n",
        "          return state,len(priority)\n",
        "      return state,len(priority)\n",
        "\n"
      ],
      "metadata": {
        "id": "6R4FmyGY7Nxy"
      },
      "execution_count": null,
      "outputs": []
    },
    {
      "cell_type": "code",
      "source": [
        "puzzle=[]\n",
        "puzzle.append(2)\n",
        "puzzle.append(8)\n",
        "puzzle.append(3)\n",
        "puzzle.append(1)\n",
        "puzzle.append(6)\n",
        "puzzle.append(4)\n",
        "puzzle.append(7)\n",
        "puzzle.append(0)\n",
        "puzzle.append(5)\n",
        "goal=[]\n",
        "goal.append(1)\n",
        "goal.append(2)\n",
        "goal.append(3)\n",
        "goal.append(8)\n",
        "goal.append(0)\n",
        "goal.append(4)\n",
        "goal.append(7)\n",
        "goal.append(6)\n",
        "goal.append(5)\n",
        "state,visited=evaluate_misplaced(puzzle,goal)\n",
        "bestpath=bestsolution(state)\n",
        "print(str(bestpath).replace('[','').replace(']',''))\n",
        "print('cost to reach the solution:',visited)\n",
        "totalmoves=len(bestpath)-1\n",
        "print('\\n total number of moves:',totalmoves)\n",
        "visit = len(state)-visited\n",
        "print('\\n total number of visited nodes:',visit,\"\\n\")"
      ],
      "metadata": {
        "colab": {
          "base_uri": "https://localhost:8080/",
          "height": 474
        },
        "id": "bLRHr-9i7BT2",
        "outputId": "c067d798-7b4b-47c9-9a9d-5ef89467be1f"
      },
      "execution_count": null,
      "outputs": [
        {
          "output_type": "stream",
          "name": "stderr",
          "text": [
            "<ipython-input-25-a04f828e2321>:2: FutureWarning: Passing (type, 1) or '1type' as a synonym of type is deprecated; in a future version of numpy, it will be understood as (type, (1,)) / '(1,)type'.\n",
            "  steps=np.array([\n"
          ]
        },
        {
          "output_type": "error",
          "ename": "ValueError",
          "evalue": "setting an array element with a sequence.",
          "traceback": [
            "\u001b[0;31m---------------------------------------------------------------------------\u001b[0m",
            "\u001b[0;31mTypeError\u001b[0m                                 Traceback (most recent call last)",
            "\u001b[0;31mTypeError\u001b[0m: int() argument must be a string, a bytes-like object or a real number, not 'list'",
            "\nThe above exception was the direct cause of the following exception:\n",
            "\u001b[0;31mValueError\u001b[0m                                Traceback (most recent call last)",
            "\u001b[0;32m<ipython-input-30-ce3d10f4e6bd>\u001b[0m in \u001b[0;36m<cell line: 21>\u001b[0;34m()\u001b[0m\n\u001b[1;32m     19\u001b[0m \u001b[0mgoal\u001b[0m\u001b[0;34m.\u001b[0m\u001b[0mappend\u001b[0m\u001b[0;34m(\u001b[0m\u001b[0;36m6\u001b[0m\u001b[0;34m)\u001b[0m\u001b[0;34m\u001b[0m\u001b[0;34m\u001b[0m\u001b[0m\n\u001b[1;32m     20\u001b[0m \u001b[0mgoal\u001b[0m\u001b[0;34m.\u001b[0m\u001b[0mappend\u001b[0m\u001b[0;34m(\u001b[0m\u001b[0;36m5\u001b[0m\u001b[0;34m)\u001b[0m\u001b[0;34m\u001b[0m\u001b[0;34m\u001b[0m\u001b[0m\n\u001b[0;32m---> 21\u001b[0;31m \u001b[0mstate\u001b[0m\u001b[0;34m,\u001b[0m\u001b[0mvisited\u001b[0m\u001b[0;34m=\u001b[0m\u001b[0mevaluate_misplaced\u001b[0m\u001b[0;34m(\u001b[0m\u001b[0mpuzzle\u001b[0m\u001b[0;34m,\u001b[0m\u001b[0mgoal\u001b[0m\u001b[0;34m)\u001b[0m\u001b[0;34m\u001b[0m\u001b[0;34m\u001b[0m\u001b[0m\n\u001b[0m\u001b[1;32m     22\u001b[0m \u001b[0mbestpath\u001b[0m\u001b[0;34m=\u001b[0m\u001b[0mbestsolution\u001b[0m\u001b[0;34m(\u001b[0m\u001b[0mstate\u001b[0m\u001b[0;34m)\u001b[0m\u001b[0;34m\u001b[0m\u001b[0;34m\u001b[0m\u001b[0m\n\u001b[1;32m     23\u001b[0m \u001b[0mprint\u001b[0m\u001b[0;34m(\u001b[0m\u001b[0mstr\u001b[0m\u001b[0;34m(\u001b[0m\u001b[0mbestpath\u001b[0m\u001b[0;34m)\u001b[0m\u001b[0;34m.\u001b[0m\u001b[0mreplace\u001b[0m\u001b[0;34m(\u001b[0m\u001b[0;34m'['\u001b[0m\u001b[0;34m,\u001b[0m\u001b[0;34m''\u001b[0m\u001b[0;34m)\u001b[0m\u001b[0;34m.\u001b[0m\u001b[0mreplace\u001b[0m\u001b[0;34m(\u001b[0m\u001b[0;34m']'\u001b[0m\u001b[0;34m,\u001b[0m\u001b[0;34m''\u001b[0m\u001b[0;34m)\u001b[0m\u001b[0;34m)\u001b[0m\u001b[0;34m\u001b[0m\u001b[0;34m\u001b[0m\u001b[0m\n",
            "\u001b[0;32m<ipython-input-25-a04f828e2321>\u001b[0m in \u001b[0;36mevaluate_misplaced\u001b[0;34m(puzzle, goal)\u001b[0m\n\u001b[1;32m      1\u001b[0m \u001b[0;32mdef\u001b[0m \u001b[0mevaluate_misplaced\u001b[0m\u001b[0;34m(\u001b[0m\u001b[0mpuzzle\u001b[0m\u001b[0;34m,\u001b[0m\u001b[0mgoal\u001b[0m\u001b[0;34m)\u001b[0m\u001b[0;34m:\u001b[0m\u001b[0;34m\u001b[0m\u001b[0;34m\u001b[0m\u001b[0m\n\u001b[0;32m----> 2\u001b[0;31m   steps=np.array([\n\u001b[0m\u001b[1;32m      3\u001b[0m       \u001b[0;34m(\u001b[0m\u001b[0;34m'up'\u001b[0m\u001b[0;34m,\u001b[0m\u001b[0;34m[\u001b[0m\u001b[0;36m0\u001b[0m\u001b[0;34m,\u001b[0m\u001b[0;36m1\u001b[0m\u001b[0;34m,\u001b[0m\u001b[0;36m2\u001b[0m\u001b[0;34m]\u001b[0m\u001b[0;34m,\u001b[0m\u001b[0;34m-\u001b[0m\u001b[0;36m3\u001b[0m\u001b[0;34m)\u001b[0m\u001b[0;34m,\u001b[0m\u001b[0;34m\u001b[0m\u001b[0;34m\u001b[0m\u001b[0m\n\u001b[1;32m      4\u001b[0m       \u001b[0;34m(\u001b[0m\u001b[0;34m'down'\u001b[0m\u001b[0;34m,\u001b[0m\u001b[0;34m[\u001b[0m\u001b[0;36m6\u001b[0m\u001b[0;34m,\u001b[0m\u001b[0;36m7\u001b[0m\u001b[0;34m,\u001b[0m\u001b[0;36m8\u001b[0m\u001b[0;34m]\u001b[0m\u001b[0;34m,\u001b[0m\u001b[0;36m3\u001b[0m\u001b[0;34m)\u001b[0m\u001b[0;34m,\u001b[0m\u001b[0;34m\u001b[0m\u001b[0;34m\u001b[0m\u001b[0m\n\u001b[1;32m      5\u001b[0m       \u001b[0;34m(\u001b[0m\u001b[0;34m'left'\u001b[0m\u001b[0;34m,\u001b[0m\u001b[0;34m[\u001b[0m\u001b[0;36m0\u001b[0m\u001b[0;34m,\u001b[0m\u001b[0;36m3\u001b[0m\u001b[0;34m,\u001b[0m\u001b[0;36m6\u001b[0m\u001b[0;34m]\u001b[0m\u001b[0;34m,\u001b[0m\u001b[0;34m-\u001b[0m\u001b[0;36m1\u001b[0m\u001b[0;34m)\u001b[0m\u001b[0;34m,\u001b[0m\u001b[0;34m\u001b[0m\u001b[0;34m\u001b[0m\u001b[0m\n",
            "\u001b[0;31mValueError\u001b[0m: setting an array element with a sequence."
          ]
        }
      ]
    }
  ]
}